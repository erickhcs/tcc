{
  "cells": [
    {
      "cell_type": "code",
      "execution_count": 24,
      "metadata": {
        "id": "P3hKX9S2d5sD"
      },
      "outputs": [],
      "source": [
        "import pandas as pd\n",
        "from IPython import display\n",
        "display.Image(\"image1.png\")\n",
        "\n",
        "mu = 4.3\n",
        "lamda = 1\n",
        "omega= 4.3\n",
        "alpha1= 0.7\n",
        "alpha2= 0.3\n",
        "alpha3= 0"
      ]
    },
    {
      "cell_type": "code",
      "execution_count": 49,
      "metadata": {},
      "outputs": [],
      "source": [
        "\n",
        "def generate_result_file(basePath,delay,jitter,loss):\n",
        "    path1 = basePath + 'user1-segment.csv'\n",
        "    path2 = basePath + 'user1-session.csv'\n",
        "\n",
        "    data = pd.read_csv(path1)\n",
        "    data_final = pd.read_csv(path1)\n",
        "    data1 = pd.read_csv(path2)\n",
        "\n",
        "    # Fixing column name order\n",
        "    data1.rename(columns={' z1_bit': 'til_4k_z3'}, inplace=True)\n",
        "\n",
        "    data1.rename(columns={' z2_bit': ' z1_bit'}, inplace=True)\n",
        "\n",
        "    data1.rename(columns={' z3_bit': ' z2_bit'}, inplace=True)\n",
        "\n",
        "    data1.rename(columns={' til_4k_z3': ' z3_bit'}, inplace=True)\n",
        "\n",
        "    data_final.rename(columns={' z1_bit': 'til_4k_z3'}, inplace=True)\n",
        "\n",
        "    data_final.rename(columns={' z2_bit': ' z1_bit'}, inplace=True)\n",
        "\n",
        "    data_final.rename(columns={' z3_bit': ' z2_bit'}, inplace=True)\n",
        "\n",
        "    data_final.rename(columns={' til_4k_z3': ' z3_bit'}, inplace=True)\n",
        "\n",
        "    data_final.head(5)\n",
        "\n",
        "    # Function to choose the correct qt_sw value\n",
        "    def choose_qt_sw(row, data1):\n",
        "        if row['Zone'] == 'Z1':\n",
        "            return data1.iloc[0][' qt_sw_z1']\n",
        "        elif row['Zone'] == 'Z2':\n",
        "            return data1.iloc[0][' qt_sw_z2']\n",
        "        elif row['Zone'] == 'Z3':\n",
        "            return data1.iloc[0][' qt_sw_z3']\n",
        "        else:\n",
        "            return 0  # Default value in case of unexpected Zone value\n",
        "\n",
        "    data_final['qt_sw'] = data_final.apply(lambda row: choose_qt_sw(row, data1), axis=1)\n",
        "    data_final['QoE'] = data_final[' Bitrate'] - (mu * data1.iloc[0][' total_stall']) - (lamda * data_final['qt_sw']) - (omega * data1.iloc[0][' start_time'])\n",
        "    data_final['delay'] = delay\n",
        "    data_final['jitter'] = jitter\n",
        "    data_final['loss'] = loss\n",
        "\n",
        "    data_final.head(5)\n",
        "\n",
        "    path4 = basePath + 'user1-session1_final.csv'\n",
        "\n",
        "    data_final.to_csv(str(path4), index=False)\n",
        "\n",
        "    print('export csv ok')\n"
      ]
    },
    {
      "cell_type": "code",
      "execution_count": 63,
      "metadata": {
        "id": "rmBhMfrNzNEV"
      },
      "outputs": [
        {
          "name": "stdout",
          "output_type": "stream",
          "text": [
            "export csv ok\n",
            "export csv ok\n",
            "export csv ok\n",
            "export csv ok\n",
            "export csv ok\n"
          ]
        }
      ],
      "source": [
        "for i in range(1, 6):\n",
        "    basePath = './loss/5%/' + str(i) + '/'\n",
        "    generate_result_file(basePath,'0','0','5')"
      ]
    }
  ],
  "metadata": {
    "colab": {
      "provenance": []
    },
    "kernelspec": {
      "display_name": "Python 3",
      "name": "python3"
    },
    "language_info": {
      "codemirror_mode": {
        "name": "ipython",
        "version": 3
      },
      "file_extension": ".py",
      "mimetype": "text/x-python",
      "name": "python",
      "nbconvert_exporter": "python",
      "pygments_lexer": "ipython3",
      "version": "3.9.6"
    }
  },
  "nbformat": 4,
  "nbformat_minor": 0
}
